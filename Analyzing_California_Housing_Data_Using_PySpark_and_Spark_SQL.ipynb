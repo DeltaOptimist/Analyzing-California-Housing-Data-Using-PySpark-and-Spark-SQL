{
  "nbformat": 4,
  "nbformat_minor": 0,
  "metadata": {
    "colab": {
      "provenance": []
    },
    "kernelspec": {
      "name": "python3",
      "display_name": "Python 3"
    },
    "language_info": {
      "name": "python"
    }
  },
  "cells": [
    {
      "cell_type": "code",
      "execution_count": 1,
      "metadata": {
        "colab": {
          "base_uri": "https://localhost:8080/"
        },
        "id": "FGHGS6bng75x",
        "outputId": "a949386e-a4a3-4b24-f72f-a6a9776323c5"
      },
      "outputs": [
        {
          "output_type": "stream",
          "name": "stdout",
          "text": [
            "Collecting pyspark\n",
            "  Downloading pyspark-3.5.2.tar.gz (317.3 MB)\n",
            "\u001b[2K     \u001b[90m━━━━━━━━━━━━━━━━━━━━━━━━━━━━━━━━━━━━━━━━\u001b[0m \u001b[32m317.3/317.3 MB\u001b[0m \u001b[31m2.1 MB/s\u001b[0m eta \u001b[36m0:00:00\u001b[0m\n",
            "\u001b[?25h  Preparing metadata (setup.py) ... \u001b[?25l\u001b[?25hdone\n",
            "Requirement already satisfied: py4j==0.10.9.7 in /usr/local/lib/python3.10/dist-packages (from pyspark) (0.10.9.7)\n",
            "Building wheels for collected packages: pyspark\n",
            "  Building wheel for pyspark (setup.py) ... \u001b[?25l\u001b[?25hdone\n",
            "  Created wheel for pyspark: filename=pyspark-3.5.2-py2.py3-none-any.whl size=317812365 sha256=f9404f3d0023d7cea67c574a90dd097d65b97fdb92aad9875144e2266c80a6ea\n",
            "  Stored in directory: /root/.cache/pip/wheels/34/34/bd/03944534c44b677cd5859f248090daa9fb27b3c8f8e5f49574\n",
            "Successfully built pyspark\n",
            "Installing collected packages: pyspark\n",
            "Successfully installed pyspark-3.5.2\n"
          ]
        }
      ],
      "source": [
        "pip install pyspark"
      ]
    },
    {
      "cell_type": "code",
      "source": [
        "from pyspark.sql import SparkSession\n",
        "from pyspark.sql.functions import col, avg, max, min"
      ],
      "metadata": {
        "id": "CMVBDiWjjo0P"
      },
      "execution_count": 2,
      "outputs": []
    },
    {
      "cell_type": "code",
      "source": [
        "# Initialize Spark Session\n",
        "spark = SparkSession.builder.appName(\"California Housing Analysis\").getOrCreate()"
      ],
      "metadata": {
        "id": "k4MfXV_Djw-s"
      },
      "execution_count": 3,
      "outputs": []
    },
    {
      "cell_type": "code",
      "source": [
        "# Load Built-in Dataset\n",
        "# (Assuming that the dataset is available locally in the sample_data directory)\n",
        "df = spark.read.csv(\"sample_data/california_housing_train.csv\", header=True, inferSchema=True)\n"
      ],
      "metadata": {
        "id": "ZKLXMY_N5dWk"
      },
      "execution_count": 4,
      "outputs": []
    },
    {
      "cell_type": "code",
      "source": [
        "# Show the first few rows of the dataset\n",
        "df.show(5)"
      ],
      "metadata": {
        "colab": {
          "base_uri": "https://localhost:8080/"
        },
        "id": "7ok72NXk5l8l",
        "outputId": "0eb66a60-30fc-489b-c515-35735e87ec26"
      },
      "execution_count": 5,
      "outputs": [
        {
          "output_type": "stream",
          "name": "stdout",
          "text": [
            "+---------+--------+------------------+-----------+--------------+----------+----------+-------------+------------------+\n",
            "|longitude|latitude|housing_median_age|total_rooms|total_bedrooms|population|households|median_income|median_house_value|\n",
            "+---------+--------+------------------+-----------+--------------+----------+----------+-------------+------------------+\n",
            "|  -114.31|   34.19|              15.0|     5612.0|        1283.0|    1015.0|     472.0|       1.4936|           66900.0|\n",
            "|  -114.47|    34.4|              19.0|     7650.0|        1901.0|    1129.0|     463.0|         1.82|           80100.0|\n",
            "|  -114.56|   33.69|              17.0|      720.0|         174.0|     333.0|     117.0|       1.6509|           85700.0|\n",
            "|  -114.57|   33.64|              14.0|     1501.0|         337.0|     515.0|     226.0|       3.1917|           73400.0|\n",
            "|  -114.57|   33.57|              20.0|     1454.0|         326.0|     624.0|     262.0|        1.925|           65500.0|\n",
            "+---------+--------+------------------+-----------+--------------+----------+----------+-------------+------------------+\n",
            "only showing top 5 rows\n",
            "\n"
          ]
        }
      ]
    },
    {
      "cell_type": "code",
      "source": [
        "# Register DataFrame as Temp Table\n",
        "df.createOrReplaceTempView(\"california_housing\")\n"
      ],
      "metadata": {
        "id": "jy2GbdFr5o5r"
      },
      "execution_count": 6,
      "outputs": []
    },
    {
      "cell_type": "code",
      "source": [
        "# Example Analysis 1: Calculate average house value by median income bracket\n",
        "result1 = spark.sql(\"\"\"\n",
        "    SELECT median_income, AVG(median_house_value) as avg_house_value\n",
        "    FROM california_housing\n",
        "    GROUP BY median_income\n",
        "    ORDER BY median_income\n",
        "\"\"\")\n",
        "result1.show()\n"
      ],
      "metadata": {
        "colab": {
          "base_uri": "https://localhost:8080/"
        },
        "id": "irErj-sv5sIF",
        "outputId": "06d8b04a-4b2b-4230-81b3-cea6a891e467"
      },
      "execution_count": 7,
      "outputs": [
        {
          "output_type": "stream",
          "name": "stdout",
          "text": [
            "+-------------+------------------+\n",
            "|median_income|   avg_house_value|\n",
            "+-------------+------------------+\n",
            "|       0.4999|133027.36363636365|\n",
            "|        0.536| 163571.2857142857|\n",
            "|       0.6433|          111300.0|\n",
            "|       0.6775|          350000.0|\n",
            "|       0.6825|          187500.0|\n",
            "|       0.6831|           87500.0|\n",
            "|        0.696|           42500.0|\n",
            "|       0.6991|           89500.0|\n",
            "|       0.7007|          134400.0|\n",
            "|       0.7025|          500001.0|\n",
            "|       0.7068|          200000.0|\n",
            "|       0.7069|           70300.0|\n",
            "|       0.7075|           78800.0|\n",
            "|        0.716|          104200.0|\n",
            "|       0.7286|           95200.0|\n",
            "|       0.7445|          112500.0|\n",
            "|       0.7473|          168800.0|\n",
            "|       0.7526|          162500.0|\n",
            "|       0.7591|          350000.0|\n",
            "|         0.76|          162500.0|\n",
            "+-------------+------------------+\n",
            "only showing top 20 rows\n",
            "\n"
          ]
        }
      ]
    },
    {
      "cell_type": "code",
      "source": [
        "# Example Analysis 2: Find the maximum and minimum house values in each housing block\n",
        "result2 = spark.sql(\"\"\"\n",
        "    SELECT longitude, latitude, MAX(median_house_value) as max_house_value,\n",
        "           MIN(median_house_value) as min_house_value\n",
        "    FROM california_housing\n",
        "    GROUP BY longitude, latitude\n",
        "    ORDER BY max_house_value DESC\n",
        "    LIMIT 10\n",
        "\"\"\")\n",
        "result2.show()\n"
      ],
      "metadata": {
        "colab": {
          "base_uri": "https://localhost:8080/"
        },
        "id": "jAcSkKRx5x_P",
        "outputId": "e372fa34-3760-442e-e259-21d292b63689"
      },
      "execution_count": 8,
      "outputs": [
        {
          "output_type": "stream",
          "name": "stdout",
          "text": [
            "+---------+--------+---------------+---------------+\n",
            "|longitude|latitude|max_house_value|min_house_value|\n",
            "+---------+--------+---------------+---------------+\n",
            "|  -119.23|   34.19|       500001.0|       500001.0|\n",
            "|   -118.4|   34.13|       500001.0|       500001.0|\n",
            "|  -118.12|   33.76|       500001.0|       461500.0|\n",
            "|  -118.07|   33.72|       500001.0|       485000.0|\n",
            "|  -118.43|   34.02|       500001.0|       500001.0|\n",
            "|  -117.31|   32.82|       500001.0|       500001.0|\n",
            "|  -118.57|   34.27|       500001.0|       500001.0|\n",
            "|  -118.48|   33.96|       500001.0|       500001.0|\n",
            "|  -122.06|    37.3|       500001.0|       500001.0|\n",
            "|  -118.13|   33.79|       500001.0|       234800.0|\n",
            "+---------+--------+---------------+---------------+\n",
            "\n"
          ]
        }
      ]
    },
    {
      "cell_type": "code",
      "source": [
        "# Example Analysis 3: Determine the average house value for houses older than 50 years\n",
        "result3 = spark.sql(\"\"\"\n",
        "    SELECT AVG(median_house_value) as avg_old_house_value\n",
        "    FROM california_housing\n",
        "    WHERE housing_median_age > 50\n",
        "\"\"\")\n",
        "result3.show()\n"
      ],
      "metadata": {
        "colab": {
          "base_uri": "https://localhost:8080/"
        },
        "id": "IEMWmkqx5zz_",
        "outputId": "25088ff8-1f3c-4a83-e08e-bb1fc1e2a6e9"
      },
      "execution_count": 9,
      "outputs": [
        {
          "output_type": "stream",
          "name": "stdout",
          "text": [
            "+-------------------+\n",
            "|avg_old_house_value|\n",
            "+-------------------+\n",
            "|  276408.2573800738|\n",
            "+-------------------+\n",
            "\n"
          ]
        }
      ]
    },
    {
      "cell_type": "code",
      "source": [
        "# Stop the Spark Session\n",
        "spark.stop()\n"
      ],
      "metadata": {
        "id": "vNZBAnFZ5120"
      },
      "execution_count": 10,
      "outputs": []
    },
    {
      "cell_type": "code",
      "source": [
        "from pyspark.sql import SparkSession"
      ],
      "metadata": {
        "id": "znWh18qQ54Zb"
      },
      "execution_count": 11,
      "outputs": []
    },
    {
      "cell_type": "code",
      "source": [
        "# Initialize Spark Session\n",
        "spark = SparkSession.builder.appName(\"California Housing Analysis Advance\").getOrCreate()\n"
      ],
      "metadata": {
        "id": "nAIBIs0E6BiC"
      },
      "execution_count": 12,
      "outputs": []
    },
    {
      "cell_type": "code",
      "source": [
        "# Load the California Housing Dataset\n",
        "df = spark.read.csv(\"sample_data/california_housing_train.csv\", header=True, inferSchema=True)\n"
      ],
      "metadata": {
        "id": "MjYA-Nn66I_p"
      },
      "execution_count": 13,
      "outputs": []
    },
    {
      "cell_type": "code",
      "source": [
        "# Register DataFrame as Temp Table\n",
        "df.createOrReplaceTempView(\"california_housing\")"
      ],
      "metadata": {
        "id": "sCEmbEP16M9a"
      },
      "execution_count": 14,
      "outputs": []
    },
    {
      "cell_type": "code",
      "source": [
        "# 1. Average House Value by Proximity to Ocean (Based on Longitude)\n",
        "result1 = spark.sql(\"\"\"\n",
        "    SELECT CASE\n",
        "               WHEN longitude < -122 THEN 'Near Ocean'\n",
        "               ELSE 'Far from Ocean'\n",
        "           END as proximity_to_ocean,\n",
        "           AVG(median_house_value) as avg_house_value\n",
        "    FROM california_housing\n",
        "    GROUP BY proximity_to_ocean\n",
        "\"\"\")\n",
        "result1.show()\n"
      ],
      "metadata": {
        "colab": {
          "base_uri": "https://localhost:8080/"
        },
        "id": "rQkgfHD_6UpX",
        "outputId": "3d1a25a6-e24a-429a-d3cb-49cdf83ab964"
      },
      "execution_count": 15,
      "outputs": [
        {
          "output_type": "stream",
          "name": "stdout",
          "text": [
            "+------------------+------------------+\n",
            "|proximity_to_ocean|   avg_house_value|\n",
            "+------------------+------------------+\n",
            "|        Near Ocean|  245589.432132964|\n",
            "|    Far from Ocean|198254.34113882628|\n",
            "+------------------+------------------+\n",
            "\n"
          ]
        }
      ]
    },
    {
      "cell_type": "code",
      "source": [
        "# 2. Average Number of Rooms by Age of Housing\n",
        "result2 = spark.sql(\"\"\"\n",
        "    SELECT housing_median_age,\n",
        "           AVG(total_rooms) as avg_rooms\n",
        "    FROM california_housing\n",
        "    GROUP BY housing_median_age\n",
        "    ORDER BY housing_median_age\n",
        "\"\"\")\n",
        "result2.show()"
      ],
      "metadata": {
        "colab": {
          "base_uri": "https://localhost:8080/"
        },
        "id": "oDQ84DyK6Yxg",
        "outputId": "9fb105d8-46d8-416d-8c41-23bdd3541e21"
      },
      "execution_count": 16,
      "outputs": [
        {
          "output_type": "stream",
          "name": "stdout",
          "text": [
            "+------------------+------------------+\n",
            "|housing_median_age|         avg_rooms|\n",
            "+------------------+------------------+\n",
            "|               1.0|            2158.0|\n",
            "|               2.0| 5237.102040816327|\n",
            "|               3.0| 6920.326086956522|\n",
            "|               4.0| 6065.614906832298|\n",
            "|               5.0| 4926.261306532663|\n",
            "|               6.0| 4365.062015503876|\n",
            "|               7.0| 5672.907284768212|\n",
            "|               8.0|4076.7865168539324|\n",
            "|               9.0|3813.4651162790697|\n",
            "|              10.0|3518.4823008849557|\n",
            "|              11.0| 3971.105769230769|\n",
            "|              12.0| 4216.661458333333|\n",
            "|              13.0|3692.5060240963853|\n",
            "|              14.0| 3720.348703170029|\n",
            "|              15.0|3283.3173076923076|\n",
            "|              16.0| 3047.636220472441|\n",
            "|              17.0|3133.9670138888887|\n",
            "|              18.0|3098.4435146443516|\n",
            "|              19.0| 3005.140776699029|\n",
            "|              20.0|2852.3342036553527|\n",
            "+------------------+------------------+\n",
            "only showing top 20 rows\n",
            "\n"
          ]
        }
      ]
    },
    {
      "cell_type": "code",
      "source": [
        "# 3. Top 10 Locations with the Highest Median Income\n",
        "result3 = spark.sql(\"\"\"\n",
        "    SELECT longitude, latitude, median_income\n",
        "    FROM california_housing\n",
        "    ORDER BY median_income DESC\n",
        "    LIMIT 10\n",
        "\"\"\")\n",
        "result3.show()\n"
      ],
      "metadata": {
        "colab": {
          "base_uri": "https://localhost:8080/"
        },
        "id": "MZdt7fN-6dBv",
        "outputId": "3d215f53-39b8-4b93-d60d-24cecd3cead9"
      },
      "execution_count": 17,
      "outputs": [
        {
          "output_type": "stream",
          "name": "stdout",
          "text": [
            "+---------+--------+-------------+\n",
            "|longitude|latitude|median_income|\n",
            "+---------+--------+-------------+\n",
            "|  -118.04|   34.13|      15.0001|\n",
            "|  -118.34|   34.08|      15.0001|\n",
            "|  -118.06|   33.72|      15.0001|\n",
            "|  -118.19|   34.19|      15.0001|\n",
            "|  -118.33|   34.06|      15.0001|\n",
            "|  -118.32|   34.06|      15.0001|\n",
            "|  -117.23|   32.99|      15.0001|\n",
            "|  -118.33|   34.07|      15.0001|\n",
            "|  -118.18|   34.19|      15.0001|\n",
            "|  -118.12|   34.12|      15.0001|\n",
            "+---------+--------+-------------+\n",
            "\n"
          ]
        }
      ]
    },
    {
      "cell_type": "code",
      "source": [
        "# 4. Relationship Between Population and House Value (Correlation Analysis)\n",
        "result4 = spark.sql(\"\"\"\n",
        "    SELECT POPULATION, median_house_value\n",
        "    FROM california_housing\n",
        "\"\"\")\n",
        "result4.corr(\"population\", \"median_house_value\")\n"
      ],
      "metadata": {
        "colab": {
          "base_uri": "https://localhost:8080/"
        },
        "id": "CAudygId6gUb",
        "outputId": "ccc4753b-181a-4319-c12d-b7bddc8dcf7a"
      },
      "execution_count": 18,
      "outputs": [
        {
          "output_type": "execute_result",
          "data": {
            "text/plain": [
              "-0.02785006112089839"
            ]
          },
          "metadata": {},
          "execution_count": 18
        }
      ]
    },
    {
      "cell_type": "code",
      "source": [
        "# 5. Average House Value by Income Level (Low, Medium, High)\n",
        "result5 = spark.sql(\"\"\"\n",
        "    SELECT CASE\n",
        "               WHEN median_income < 2.5 THEN 'Low Income'\n",
        "               WHEN median_income BETWEEN 2.5 AND 4.5 THEN 'Medium Income'\n",
        "               ELSE 'High Income'\n",
        "           END as income_level,\n",
        "           AVG(median_house_value) as avg_house_value\n",
        "    FROM california_housing\n",
        "    GROUP BY income_level\n",
        "\"\"\")\n",
        "result5.show()\n"
      ],
      "metadata": {
        "colab": {
          "base_uri": "https://localhost:8080/"
        },
        "id": "fsslrYeB6j7T",
        "outputId": "507f9824-95ca-4356-c6c9-aa40cfdb98db"
      },
      "execution_count": 19,
      "outputs": [
        {
          "output_type": "stream",
          "name": "stdout",
          "text": [
            "+-------------+------------------+\n",
            "| income_level|   avg_house_value|\n",
            "+-------------+------------------+\n",
            "|  High Income| 306535.0667466027|\n",
            "|   Low Income|120705.26480304956|\n",
            "|Medium Income|187971.56916015383|\n",
            "+-------------+------------------+\n",
            "\n"
          ]
        }
      ]
    },
    {
      "cell_type": "code",
      "source": [
        "# 6. Number of Houses in Different Age Groups\n",
        "result6 = spark.sql(\"\"\"\n",
        "    SELECT CASE\n",
        "               WHEN housing_median_age < 20 THEN 'New'\n",
        "               WHEN housing_median_age BETWEEN 20 AND 40 THEN 'Middle-aged'\n",
        "               ELSE 'Old'\n",
        "           END as age_group,\n",
        "           COUNT(*) as house_count\n",
        "    FROM california_housing\n",
        "    GROUP BY age_group\n",
        "    ORDER BY house_count DESC\n",
        "\"\"\")\n",
        "result6.show()\n"
      ],
      "metadata": {
        "colab": {
          "base_uri": "https://localhost:8080/"
        },
        "id": "kXh9KZNM7OfX",
        "outputId": "6f659634-f200-450e-a852-0f9b6edfd1a5"
      },
      "execution_count": 20,
      "outputs": [
        {
          "output_type": "stream",
          "name": "stdout",
          "text": [
            "+-----------+-----------+\n",
            "|  age_group|house_count|\n",
            "+-----------+-----------+\n",
            "|Middle-aged|       9004|\n",
            "|        New|       4826|\n",
            "|        Old|       3170|\n",
            "+-----------+-----------+\n",
            "\n"
          ]
        }
      ]
    },
    {
      "cell_type": "code",
      "source": [
        "# 7. Average Number of Bedrooms Per House\n",
        "result7 = spark.sql(\"\"\"\n",
        "    SELECT AVG(total_bedrooms / households) as avg_bedrooms_per_house\n",
        "    FROM california_housing\n",
        "\"\"\")\n",
        "result7.show()\n"
      ],
      "metadata": {
        "colab": {
          "base_uri": "https://localhost:8080/"
        },
        "id": "ke5sS4KB7Qsp",
        "outputId": "fde74671-3ea1-42ab-e2a7-3cf367f08952"
      },
      "execution_count": 21,
      "outputs": [
        {
          "output_type": "stream",
          "name": "stdout",
          "text": [
            "+----------------------+\n",
            "|avg_bedrooms_per_house|\n",
            "+----------------------+\n",
            "|    1.0972809315785848|\n",
            "+----------------------+\n",
            "\n"
          ]
        }
      ]
    },
    {
      "cell_type": "code",
      "source": [
        "# 8. Median House Value by Latitude and Longitude\n",
        "result8 = spark.sql(\"\"\"\n",
        "    SELECT latitude, longitude,\n",
        "           PERCENTILE_APPROX(median_house_value, 0.5) as median_value\n",
        "    FROM california_housing\n",
        "    GROUP BY latitude, longitude\n",
        "    ORDER BY median_value DESC\n",
        "    LIMIT 10\n",
        "\"\"\")\n",
        "result8.show()\n"
      ],
      "metadata": {
        "colab": {
          "base_uri": "https://localhost:8080/"
        },
        "id": "uFvA9rBR7TFK",
        "outputId": "11a0885c-1faa-4f57-fe51-bbb111650087"
      },
      "execution_count": 22,
      "outputs": [
        {
          "output_type": "stream",
          "name": "stdout",
          "text": [
            "+--------+---------+------------+\n",
            "|latitude|longitude|median_value|\n",
            "+--------+---------+------------+\n",
            "|   32.95|  -117.26|    500001.0|\n",
            "|   32.83|  -117.26|    500001.0|\n",
            "|   32.83|  -117.31|    500001.0|\n",
            "|   32.84|  -117.27|    500001.0|\n",
            "|   32.76|  -117.19|    500001.0|\n",
            "|   32.84|  -117.25|    500001.0|\n",
            "|   32.72|  -117.23|    500001.0|\n",
            "|   32.85|  -117.26|    500001.0|\n",
            "|   32.81|  -117.29|    500001.0|\n",
            "|   32.85|  -117.24|    500001.0|\n",
            "+--------+---------+------------+\n",
            "\n"
          ]
        }
      ]
    },
    {
      "cell_type": "code",
      "source": [
        "# 9. Households with More Than 4 Persons Per Household\n",
        "result9 = spark.sql(\"\"\"\n",
        "    SELECT COUNT(*) as large_households\n",
        "    FROM california_housing\n",
        "    WHERE population / households > 4\n",
        "\"\"\")\n",
        "result9.show()\n"
      ],
      "metadata": {
        "colab": {
          "base_uri": "https://localhost:8080/"
        },
        "id": "di3plHUC7VVX",
        "outputId": "ab73a93a-7e50-4787-88c5-2fcee8ca855e"
      },
      "execution_count": 23,
      "outputs": [
        {
          "output_type": "stream",
          "name": "stdout",
          "text": [
            "+----------------+\n",
            "|large_households|\n",
            "+----------------+\n",
            "|            1437|\n",
            "+----------------+\n",
            "\n"
          ]
        }
      ]
    },
    {
      "cell_type": "code",
      "source": [
        "# 10. Areas with the Highest House Density (Rooms per Area)\n",
        "result10 = spark.sql(\"\"\"\n",
        "    SELECT latitude, longitude, (total_rooms / housing_median_age) as rooms_density\n",
        "    FROM california_housing\n",
        "    ORDER BY rooms_density DESC\n",
        "    LIMIT 10\n",
        "\"\"\")\n",
        "result10.show()"
      ],
      "metadata": {
        "colab": {
          "base_uri": "https://localhost:8080/"
        },
        "id": "mi7GtYKe7YId",
        "outputId": "58bb7258-d993-4429-8f89-a57f6ad8e313"
      },
      "execution_count": 24,
      "outputs": [
        {
          "output_type": "stream",
          "name": "stdout",
          "text": [
            "+--------+---------+-----------------+\n",
            "|latitude|longitude|    rooms_density|\n",
            "+--------+---------+-----------------+\n",
            "|   38.72|  -121.35|          10948.5|\n",
            "|   33.57|  -117.16|          10195.5|\n",
            "|   33.89|  -117.74|          9484.25|\n",
            "|   33.89|  -117.52|           8989.0|\n",
            "|   33.52|  -117.12|          7600.25|\n",
            "|    33.9|  -117.19|           7020.0|\n",
            "|   38.77|  -121.33|           6738.0|\n",
            "|    33.9|  -117.33|           6418.5|\n",
            "|   38.66|  -121.13|           6180.0|\n",
            "|   33.97|  -117.21|6118.666666666667|\n",
            "+--------+---------+-----------------+\n",
            "\n"
          ]
        }
      ]
    },
    {
      "cell_type": "code",
      "source": [
        "# Stop the Spark Session\n",
        "spark.stop()"
      ],
      "metadata": {
        "id": "7bBkc4fL7Zwx"
      },
      "execution_count": 25,
      "outputs": []
    },
    {
      "cell_type": "code",
      "source": [],
      "metadata": {
        "id": "kAezCUsd7bMu"
      },
      "execution_count": null,
      "outputs": []
    }
  ]
}